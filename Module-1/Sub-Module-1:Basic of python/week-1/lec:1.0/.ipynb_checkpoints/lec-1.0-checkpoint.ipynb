{
 "cells": [
  {
   "cell_type": "markdown",
   "metadata": {},
   "source": [
    "<small>Module-1</small>\n",
    "\n",
    "---\n",
    "\n",
    "<img src=\"./images/1.png\" height=\"75\" width=\"75\" align=\"left\" alt = \"image not found\">\n",
    "<img src=\"./images/2.jpeg\" height=\"75\" width=\"75\" align=\"right\">\n",
    "<h1 align=\"center\">Basics of Python Programming</h1>\n",
    "<h2 style=\"color:olive\" align=\"center\">Course-1 Week-1 Day-3</h2>\n",
    "<br>\n",
    "<br>\n",
    "\n",
    "---\n",
    "\n",
    "<h3 align=\"right\">Instructor : Muhammad Iqran (Software Engineer)</h3>"
   ]
  },
  {
   "cell_type": "markdown",
   "metadata": {},
   "source": [
    "<br>\n",
    "<br>\n",
    "<h3 align=\"center\">Lecture:1.3</h3>\n",
    "<h4 align=\"center\" style=\"color:olive\">Introduction to Python,Anaconda and Jupyter Notebook </h4>\n",
    "<br>\n",
    "<br>"
   ]
  },
  {
   "cell_type": "markdown",
   "metadata": {},
   "source": [
    "<h3>Learning Agenda of this notebook</h3>\n",
    "<ol>\n",
    "    <li style=\"color:crimson\">History of python</li>\n",
    "<!--     <li  style=\"color:crimson\">Intellisense / Code Completion</li> -->\n",
    "    <li style=\"color:crimson\">its key features</li>\n",
    "    <li style=\"color:crimson\">important libraries and frameworks</li>\n",
    "    <li style=\"color:crimson\">Application of python</li>\n",
    "    <li style=\"color:crimson\">Checking ID of a variable using Built-in id() function</li>\n",
    "    <li style=\"color:crimson\">Do we actually store data inside variables?</li>\n",
    "    <li style=\"color:crimson\">Deleting a variable from Kernel memory</li>\n",
    "</ol>"
   ]
  },
  {
   "cell_type": "code",
   "execution_count": null,
   "metadata": {},
   "outputs": [],
   "source": []
  }
 ],
 "metadata": {
  "kernelspec": {
   "display_name": "Python 3",
   "language": "python",
   "name": "python3"
  },
  "language_info": {
   "codemirror_mode": {
    "name": "ipython",
    "version": 3
   },
   "file_extension": ".py",
   "mimetype": "text/x-python",
   "name": "python",
   "nbconvert_exporter": "python",
   "pygments_lexer": "ipython3",
   "version": "3.8.10"
  }
 },
 "nbformat": 4,
 "nbformat_minor": 4
}
