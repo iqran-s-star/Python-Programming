{
 "cells": [
  {
   "cell_type": "markdown",
   "metadata": {},
   "source": [
    "<h6 align=\"left\">Module-1</h6><h6 align=\"right\">Date:01-02-2022</h6>\n",
    "\n",
    "---\n",
    "\n",
    "<img src=\"./images/1.png\" height=\"75\" width=\"75\" align=\"left\" alt = \"image not found\">\n",
    "<img src=\"./images/2.jpeg\" height=\"75\" width=\"75\" align=\"right\">\n",
    "<h1 align=\"center\">Basics of Python Programming</h1>\n",
    "<h2 style=\"color:olive\" align=\"center\">Course-1 Week-1 Day-1</h2>\n",
    "<br>\n",
    "<br>\n",
    "\n",
    "---\n",
    "\n",
    "<h3 align=\"right\">Instructor : Muhammad Iqran (Software Engineer)</h3>"
   ]
  },
  {
   "cell_type": "markdown",
   "metadata": {},
   "source": [
    "<br>\n",
    "<br>\n",
    "<h3 align=\"center\">Lecture:1.0</h3>\n",
    "<h4 align=\"center\" style=\"color:olive\">Introduction to Python,Anaconda and Jupyter Notebook </h4>\n",
    "<br>\n",
    "<br>"
   ]
  },
  {
   "cell_type": "markdown",
   "metadata": {},
   "source": [
    "\n",
    "\n",
    "<br>\n",
    "\n",
    "<h2>Welcome to Learning with <u><span style=\"color:olive\">MUHAMMAD IQRAN </u></h2>\n",
    "<br>\n",
    "<img src=\"./images/img.png\">\n",
    "\n",
    "    \n",
    "<br> \n"
   ]
  },
  {
   "cell_type": "markdown",
   "metadata": {},
   "source": [
    "<h3>Learning Agenda of this notebook</h3>\n",
    "<ol>\n",
    "    <li style=\"color:crimson\">History of python</li>\n",
    "    <li style=\"color:crimson\">its key features</li>\n",
    "    <li style=\"color:crimson\">important libraries and frameworks</li>\n",
    "    <li style=\"color:crimson\">Application of python</li>\n",
    "    <li style=\"color:crimson\">World top organizations using Python</li>\n",
    "    <li style=\"color:crimson\">Downloading and installing latest version of Python.</li>\n",
    "    <li style=\"color:crimson\">Code Editors <ul><li>Notepad</li><li>visual studio code</li><li>Atom</li><li>Sublime</li></ul>Desktop IDEs<ul><li>Spyder</li><li>Pycharm</li></ul>Browser based IDEs <ul> <li>Jupyter Notebook/Lab) </li> </ul>Cloud based IDEs <ul><li>Google Colab</li><li>Deepnote</li><li>CoCalc</li></ul></li>\n",
    "    <li style=\"color:crimson\">A hello world of Python Programming in Jupyter Notebook</li>\n",
    "</ol>"
   ]
  },
  {
   "cell_type": "markdown",
   "metadata": {},
   "source": [
    "<h1>History of Python</h1>\n",
    "\n",
    ">- Python is an interpreted, high-level, general-purpose programming language.\n",
    "Created by Guido van Rossum and first released in 1991\n",
    ">- Guuido named it,after thr show  <i><b>\"Monty Python's flying circus\"</b></i> being a huge fan of it\n",
    ">- Python reached version 1.0 in January 1994. The major new features included in this release were the functional programming tools lambda , map , filter and reduced\n",
    ">- Python 2.0 was released on October 16, 2000, with many major new features, including a list comprehension cycle-detecting garbage collector.\n",
    ">- Python 3.0 final was released on December 3rd, 2008\n",
    ">- Stable version of python is 3.10"
   ]
  },
  {
   "cell_type": "markdown",
   "metadata": {},
   "source": [
    "<h1>Key Feactures</h1>\n",
    "\n",
    ">-  Easy to Learn and Use\n",
    ">-  Expressive Language\n",
    ">-  Interpreted Language\n",
    ">-  Cross-platform Language\n",
    ">-  Free and Open Source\n",
    ">-  Large Standard Library\n",
    ">-  Extensible\n"
   ]
  },
  {
   "cell_type": "markdown",
   "metadata": {},
   "source": [
    "<h1 align=\"center\">important libraries and frameworks</h1>\n",
    "<br>\n",
    "<br>\n",
    "<h2>libraries</h2>\n",
    "<img src=\"images/l.png\" align=\"center\">\n",
    "<br>\n",
    "<br>\n",
    "<h2>Frameworks</h2>\n",
    "<img src=\"images/f.png\" align=\"center\">"
   ]
  },
  {
   "cell_type": "markdown",
   "metadata": {},
   "source": [
    "<h1>Application of python</h1>\n",
    "<br>\n",
    "<br>\n",
    "<img src=\"images/a.png\" align=\"center\">"
   ]
  },
  {
   "cell_type": "markdown",
   "metadata": {},
   "source": [
    "<h1>World top organizations using Python</h1>\n",
    "<br>\n",
    "<br>\n",
    "<img src=\"images/o.png\" align=\"center\">"
   ]
  },
  {
   "cell_type": "markdown",
   "metadata": {},
   "source": [
    "<h1>Downloading and installing latest version of Python.</h1>\n",
    "\n",
    ">-  click here for Download <a href=\"https://www.python.org/downloads/\">Download Python</a>"
   ]
  },
  {
   "cell_type": "markdown",
   "metadata": {},
   "source": [
    "<h1>Code Editor Vs IDE's</h1>\n",
    "\n",
    ">- Download Code Editor <a href=\"https://code.visualstudio.com/download\">Download Visual Studio Code </a>\n",
    ">- Download Desktop Based IDEs <a href=\"https://www.jetbrains.com/pycharm/download/#section=linux\">Download PyCharm </a>\n",
    ">- Cloud Based IDEs <a href=\"https://colab.research.google.com/?utm_source=scs-index\" > Google Colab </a>\n",
    ">- Download Jupyter notebook <a href=\"https://jupyter.org/install\"> Jupyter notebook </a>"
   ]
  },
  {
   "cell_type": "markdown",
   "metadata": {},
   "source": [
    "<h1>A hello world of Python Programming in Jupyter Notebook</h1>"
   ]
  },
  {
   "cell_type": "code",
   "execution_count": 1,
   "metadata": {},
   "outputs": [
    {
     "name": "stdout",
     "output_type": "stream",
     "text": [
      "Welcome to my python Course\n"
     ]
    }
   ],
   "source": [
    "print(\"Welcome to my python Course\")"
   ]
  },
  {
   "cell_type": "markdown",
   "metadata": {},
   "source": [
    "---\n",
    "\n",
    "<h1>Assignment:</h1>\n",
    "\n",
    "> Download and install any IDEs or code Editor and try to impelement Following Algorithm\n",
    "   >- Linear and Binary Search\n",
    "   >- Bubble, Selection , Insertion and merge Sort\n",
    "   >- Fabonacci Series Generators"
   ]
  },
  {
   "cell_type": "markdown",
   "metadata": {},
   "source": [
    "<h1>Check Your concepts</h1>\n",
    "\n",
    "<h2>Try To Ans them</h2>\n",
    "\n",
    "   >- What is PYthon?\n",
    "   >- Where we use python?\n",
    "   >- when python 1.0 version released?\n",
    "   >- What is current version of python?\n",
    "   >- why we call python is expressive language?"
   ]
  },
  {
   "cell_type": "markdown",
   "metadata": {},
   "source": [
    ">- Ali Raza\n",
    ">- Hamid\n",
    ">- Husnain\n",
    ">- Hassan\n",
    ">- Junaid\n",
    ">- subtain\n",
    ">- muzammil\n",
    "Ameer Hamza\n",
    "Usama"
   ]
  },
  {
   "cell_type": "markdown",
   "metadata": {},
   "source": [
    "<script>\n",
    "alert(\"Hello World\")\n",
    "    </script>"
   ]
  },
  {
   "cell_type": "markdown",
   "metadata": {},
   "source": [
    "<script>\n",
    "document.write(\"hello\")\n",
    "</script>"
   ]
  },
  {
   "cell_type": "code",
   "execution_count": null,
   "metadata": {},
   "outputs": [],
   "source": []
  }
 ],
 "metadata": {
  "kernelspec": {
   "display_name": "Python 3",
   "language": "python",
   "name": "python3"
  },
  "language_info": {
   "codemirror_mode": {
    "name": "ipython",
    "version": 3
   },
   "file_extension": ".py",
   "mimetype": "text/x-python",
   "name": "python",
   "nbconvert_exporter": "python",
   "pygments_lexer": "ipython3",
   "version": "3.8.10"
  }
 },
 "nbformat": 4,
 "nbformat_minor": 4
}
