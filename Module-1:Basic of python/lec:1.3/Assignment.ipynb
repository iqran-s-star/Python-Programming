{
 "cells": [
  {
   "cell_type": "markdown",
   "metadata": {},
   "source": [
    "<small>Module-1</small>\n",
    "\n",
    "---\n",
    "\n",
    "<img src=\"./images/1.png\" height=\"75\" width=\"75\" align=\"left\" alt = \"image not found\">\n",
    "<img src=\"./images/2.jpeg\" height=\"75\" width=\"75\" align=\"right\">\n",
    "<h1 align=\"center\">Basics of Python Programming</h1>\n",
    "\n",
    "<br>\n",
    "<br>\n",
    "\n",
    "---\n",
    "\n",
    "<h3 align=\"right\">Instructor : Muhammad Iqran (Software Engineer)</h3>"
   ]
  },
  {
   "cell_type": "markdown",
   "metadata": {},
   "source": [
    "<br>\n",
    "<br>\n",
    "<h3 align=\"center\">Lecture:1.3</h3>\n",
    "<h4 align=\"center\" style=\"color:olive\">Selection structures And Operators</h4>\n",
    "<br>\n",
    "<br>"
   ]
  },
  {
   "cell_type": "markdown",
   "metadata": {},
   "source": [
    "# Assignment:"
   ]
  },
  {
   "cell_type": "markdown",
   "metadata": {},
   "source": [
    "#### Problem : 1\n",
    "- Take input from user and check wheater the number prime or not.\n",
    "> <b>Hint</b>\n",
    "> - Prime numbers are numbers that have only 2 factors: 1 and themselves\n"
   ]
  },
  {
   "cell_type": "markdown",
   "metadata": {},
   "source": [
    "#### Problem : 2\n",
    "- Try to implement linear Search Algorithms."
   ]
  },
  {
   "cell_type": "code",
   "execution_count": null,
   "metadata": {},
   "outputs": [],
   "source": []
  }
 ],
 "metadata": {
  "kernelspec": {
   "display_name": "Python 3",
   "language": "python",
   "name": "python3"
  },
  "language_info": {
   "codemirror_mode": {
    "name": "ipython",
    "version": 3
   },
   "file_extension": ".py",
   "mimetype": "text/x-python",
   "name": "python",
   "nbconvert_exporter": "python",
   "pygments_lexer": "ipython3",
   "version": "3.8.10"
  }
 },
 "nbformat": 4,
 "nbformat_minor": 4
}
