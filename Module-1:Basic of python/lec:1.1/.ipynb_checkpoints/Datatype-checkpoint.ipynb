{
 "cells": [
  {
   "cell_type": "markdown",
   "metadata": {},
   "source": [
    "<small>Module-1</small>\n",
    "\n",
    "---\n",
    "\n",
    "<img src=\"./images/1.png\" height=\"75\" width=\"75\" align=\"left\" alt = \"image not found\">\n",
    "<img src=\"./images/2.jpeg\" height=\"75\" width=\"75\" align=\"right\">\n",
    "<h1 align=\"center\">Basics of Python Programming</h1>\n",
    "<h2 style=\"color:olive\" align=\"center\">Course-1 Week-1 Day-2</h2>\n",
    "<br>\n",
    "<br>\n",
    "\n",
    "---\n",
    "\n",
    "<h3 align=\"right\">Instructor : Muhammad Iqran (Software Engineer)</h3>"
   ]
  },
  {
   "cell_type": "markdown",
   "metadata": {},
   "source": [
    "<br>\n",
    "<br>\n",
    "<h3 align=\"center\">Lecture:1.1</h3>\n",
    "<h4 align=\"center\" style=\"color:olive\">Variables, Numbers Datatype And Operators</h4>\n",
    "<br>\n",
    "<br>"
   ]
  },
  {
   "cell_type": "markdown",
   "metadata": {},
   "source": [
    "<h3>Learning Agenda of this notebook</h3>\n",
    "<ol>\n",
    "    <li style=\"color:crimson\">Python Numeric data types</li>\n",
    "    <li style=\"color:crimson\">Issues with Float data type</li>\n",
    "    <li style=\"color:crimson\">Conversiton / Type Casting</li>\n",
    "    <li style=\"color:crimson\">Python Sequences Data types</li>\n",
    "    <li style=\"color:crimson\">Python Set Data Types </li>\n",
    "    <li style=\"color:crimson\">Python Mappings Data types</li>\n",
    "</ol>"
   ]
  },
  {
   "cell_type": "markdown",
   "metadata": {},
   "source": [
    "<h1 align=\"center\">Python Datatypes</h1>\n",
    "\n",
    "<img align=\"center\" width=\"800\" height=\"800\"  src=\"images/datatypes.png\" > \n",
    "\n",
    "\n"
   ]
  },
  {
   "cell_type": "markdown",
   "metadata": {},
   "source": [
    ">- Python's Number data types are created by numeric literals and returned as results by arithmetic operators and arithmetic built-in functions. ALL Numeric objects are immutable; once created their value never changes.\n",
    "    - Integer\n",
    "    - Floating Point\n",
    "    - Complex\n",
    "    - Bolean\n",
    "    - **Boolean:** Also \n",
    ">- A Python sequence is an ordered collection of items, where each item is indexed by an integer value. There are three types of sequence types in Python:\n",
    "    - String\n",
    "    - List\n",
    "    - Tuple\n",
    ">- In Python, a Set is an unordered collection of data type that is iterable, mutable and has no duplicate elements. The order of elements in a set is undefined.\n",
    "    - Set (mutable)\n",
    "    - Frozenset (immutable)\n",
    ">- Mapping is an unordered data type in Python. Currently, there is only one standard mapping data type in Python called Dictionary."
   ]
  },
  {
   "cell_type": "markdown",
   "metadata": {},
   "source": [
    "## 4. Python Sequences Data types"
   ]
  },
  {
   "cell_type": "markdown",
   "metadata": {},
   "source": [
    "<ul>\n",
    "<li>Sequences\n",
    "    <ul>\n",
    "        <li>Immutable (String , Tuple , Range , Bytes)</li>\n",
    "        <li>Mutable</li>\n",
    "    </ul>\n",
    "    </li>  \n",
    "</ul>"
   ]
  },
  {
   "cell_type": "markdown",
   "metadata": {},
   "source": [
    "<h1 align=\"center\">Immutable</h1>"
   ]
  },
  {
   "cell_type": "code",
   "execution_count": 31,
   "metadata": {},
   "outputs": [],
   "source": [
    "# String \n",
    "str1 = \"Never Let Shyness Conquire Your Mind\"\n",
    "# type(str1)\n",
    "# print(str1)\n",
    "# print(id(str1))\n",
    "# print(dir(str1))\n",
    "# str1.__dir__()"
   ]
  },
  {
   "cell_type": "code",
   "execution_count": 32,
   "metadata": {},
   "outputs": [],
   "source": [
    "# Tuple \n",
    "a=(20,3)\n",
    "tup1= (1,2,3,4,5,6,7,8)\n",
    "# print(type(tup1))\n",
    "# print(tup1)\n",
    "# print(id(tup1))\n",
    "# print(dir(tup1))\n",
    "# print(tup1.__add__(a))"
   ]
  },
  {
   "cell_type": "code",
   "execution_count": 46,
   "metadata": {},
   "outputs": [],
   "source": [
    "# Range \n",
    "a=range(10)\n",
    "b=range(0,20)\n",
    "c=range(0,20,3)\n",
    "# print(range(12))\n",
    "# print(a)\n",
    "# print(type(a))\n",
    "# print(id(a))\n",
    "# print(dir(a))\n",
    "# print(b)\n",
    "# print(c)"
   ]
  },
  {
   "cell_type": "markdown",
   "metadata": {},
   "source": [
    "<h1 align=\"center\">Mutable</h1>"
   ]
  },
  {
   "cell_type": "code",
   "execution_count": 45,
   "metadata": {},
   "outputs": [],
   "source": [
    "li1=[1,2,3,4,5,6,7]\n",
    "# print(li1)\n",
    "# print(type(li1))\n",
    "# print(dir(li1))\n",
    "# print(id(li1))"
   ]
  },
  {
   "cell_type": "markdown",
   "metadata": {},
   "source": [
    "## 5. Python Set Data Types"
   ]
  },
  {
   "cell_type": "code",
   "execution_count": 59,
   "metadata": {},
   "outputs": [
    {
     "name": "stdout",
     "output_type": "stream",
     "text": [
      "{1, 2, 3, 4, 5, 6}\n",
      "<class 'set'>\n",
      "140226804817696\n",
      "['__and__', '__class__', '__contains__', '__delattr__', '__dir__', '__doc__', '__eq__', '__format__', '__ge__', '__getattribute__', '__gt__', '__hash__', '__iand__', '__init__', '__init_subclass__', '__ior__', '__isub__', '__iter__', '__ixor__', '__le__', '__len__', '__lt__', '__ne__', '__new__', '__or__', '__rand__', '__reduce__', '__reduce_ex__', '__repr__', '__ror__', '__rsub__', '__rxor__', '__setattr__', '__sizeof__', '__str__', '__sub__', '__subclasshook__', '__xor__', 'add', 'clear', 'copy', 'difference', 'difference_update', 'discard', 'intersection', 'intersection_update', 'isdisjoint', 'issubset', 'issuperset', 'pop', 'remove', 'symmetric_difference', 'symmetric_difference_update', 'union', 'update']\n"
     ]
    }
   ],
   "source": [
    "set1={1,2,3,4,5,6}\n",
    "set2={7,8,3,10,11,12}\n",
    "print(set1)\n",
    "print(type(set1))\n",
    "print(id(set1))\n",
    "print(dir(set1))\n",
    "set1.__xor__(set2)\n",
    "set1.__ge__(set2)"
   ]
  },
  {
   "cell_type": "code",
   "execution_count": null,
   "metadata": {},
   "outputs": [],
   "source": []
  },
  {
   "cell_type": "code",
   "execution_count": null,
   "metadata": {},
   "outputs": [],
   "source": []
  },
  {
   "cell_type": "code",
   "execution_count": null,
   "metadata": {},
   "outputs": [],
   "source": []
  },
  {
   "cell_type": "code",
   "execution_count": null,
   "metadata": {},
   "outputs": [],
   "source": []
  },
  {
   "cell_type": "code",
   "execution_count": null,
   "metadata": {},
   "outputs": [],
   "source": []
  },
  {
   "cell_type": "code",
   "execution_count": null,
   "metadata": {},
   "outputs": [],
   "source": []
  }
 ],
 "metadata": {
  "kernelspec": {
   "display_name": "Python 3",
   "language": "python",
   "name": "python3"
  },
  "language_info": {
   "codemirror_mode": {
    "name": "ipython",
    "version": 3
   },
   "file_extension": ".py",
   "mimetype": "text/x-python",
   "name": "python",
   "nbconvert_exporter": "python",
   "pygments_lexer": "ipython3",
   "version": "3.8.10"
  }
 },
 "nbformat": 4,
 "nbformat_minor": 4
}
