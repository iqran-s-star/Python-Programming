{
 "cells": [
  {
   "cell_type": "markdown",
   "metadata": {},
   "source": [
    "<small>Module-1</small>\n",
    "\n",
    "---\n",
    "\n",
    "<img src=\"./images/1.png\" height=\"75\" width=\"75\" align=\"left\" alt = \"image not found\">\n",
    "<img src=\"./images/2.jpeg\" height=\"75\" width=\"75\" align=\"right\">\n",
    "<h1 align=\"center\">Basics of Python Programming</h1>\n",
    "<h2 style=\"color:olive\" align=\"center\">Course-1 Week-1 Day-2</h2>\n",
    "<br>\n",
    "<br>\n",
    "\n",
    "---\n",
    "\n",
    "<h3 align=\"right\">Instructor : Muhammad Iqran (Software Engineer)</h3>"
   ]
  },
  {
   "cell_type": "markdown",
   "metadata": {},
   "source": [
    "<br>\n",
    "<br>\n",
    "<h3 align=\"center\">Lecture:1.1</h3>\n",
    "<h4 align=\"center\" style=\"color:olive\">Variables, Numbers Datatype And Operators</h4>\n",
    "<br>\n",
    "<br>"
   ]
  },
  {
   "cell_type": "markdown",
   "metadata": {},
   "source": [
    "<h1>Assignment:1</h1>\n",
    "\n",
    "Download and install any IDEs or code Editor and try to impelement Following Algorithm\n",
    "\n",
    "> - Linear and Binary Search\n",
    "> - Bubble, Selection , Insertion and merge Sort\n",
    "> - Fabonacci Series Generators"
   ]
  },
  {
   "cell_type": "markdown",
   "metadata": {},
   "source": [
    "<h1>Assignment:2</h1>\n",
    "\n",
    "Download and install any IDEs or code Editor and try to impelement Following Algorithm\n",
    "\n",
    "> - Create a Account <a href=\"https://leetcode.com/\">leetcode</a>\n",
    "> - Try to implement First Problem\n",
    "> - Submit the problem on leetcode send me screen show Through Google Cloab"
   ]
  },
  {
   "cell_type": "code",
   "execution_count": null,
   "metadata": {},
   "outputs": [],
   "source": []
  }
 ],
 "metadata": {
  "kernelspec": {
   "display_name": "Python 3",
   "language": "python",
   "name": "python3"
  },
  "language_info": {
   "codemirror_mode": {
    "name": "ipython",
    "version": 3
   },
   "file_extension": ".py",
   "mimetype": "text/x-python",
   "name": "python",
   "nbconvert_exporter": "python",
   "pygments_lexer": "ipython3",
   "version": "3.8.10"
  }
 },
 "nbformat": 4,
 "nbformat_minor": 4
}
